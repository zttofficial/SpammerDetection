{
  "nbformat": 4,
  "nbformat_minor": 0,
  "metadata": {
    "colab": {
      "provenance": [],
      "collapsed_sections": []
    },
    "kernelspec": {
      "name": "python3",
      "display_name": "Python 3"
    }
  },
  "cells": [
    {
      "cell_type": "code",
      "metadata": {
        "id": "GGbk-4rwm_cs"
      },
      "source": [
        "import pandas as pd\n",
        "import numpy as np\n",
        "import re, string\n",
        "from scipy.stats import zscore\n",
        "from sklearn.ensemble import RandomForestClassifier, AdaBoostClassifier\n",
        "from sklearn.model_selection import train_test_split\n",
        "from sklearn import metrics, svm\n",
        "from sklearn.metrics import precision_score\n",
        "from sklearn.metrics import recall_score\n",
        "from sklearn.metrics import f1_score"
      ],
      "execution_count": 1,
      "outputs": []
    },
    {
      "cell_type": "code",
      "metadata": {
        "id": "E1vJNnvElYLf",
        "colab": {
          "base_uri": "https://localhost:8080/"
        },
        "outputId": "53673425-1978-4f72-ff04-93b40c780720"
      },
      "source": [
        "!wget http://infolab.tamu.edu/data/social_honeypot_icwsm_2011.zip"
      ],
      "execution_count": null,
      "outputs": [
        {
          "output_type": "stream",
          "name": "stdout",
          "text": [
            "--2022-10-10 16:26:17--  http://infolab.tamu.edu/data/social_honeypot_icwsm_2011.zip\n",
            "Resolving infolab.tamu.edu (infolab.tamu.edu)... 45.55.217.29\n",
            "Connecting to infolab.tamu.edu (infolab.tamu.edu)|45.55.217.29|:80... connected.\n",
            "HTTP request sent, awaiting response... 301 Moved Permanently\n",
            "Location: https://infolab.tamu.edu/data/social_honeypot_icwsm_2011.zip [following]\n",
            "--2022-10-10 16:26:17--  https://infolab.tamu.edu/data/social_honeypot_icwsm_2011.zip\n",
            "Connecting to infolab.tamu.edu (infolab.tamu.edu)|45.55.217.29|:443... connected.\n",
            "HTTP request sent, awaiting response... 200 OK\n",
            "Length: 263659672 (251M) [application/zip]\n",
            "Saving to: ‘social_honeypot_icwsm_2011.zip.1’\n",
            "\n",
            "social_honeypot_icw 100%[===================>] 251.45M  78.4MB/s    in 3.2s    \n",
            "\n",
            "2022-10-10 16:26:20 (78.4 MB/s) - ‘social_honeypot_icwsm_2011.zip.1’ saved [263659672/263659672]\n",
            "\n"
          ]
        }
      ]
    },
    {
      "cell_type": "code",
      "metadata": {
        "id": "2vMHxVfKksYG",
        "colab": {
          "base_uri": "https://localhost:8080/"
        },
        "outputId": "abc8236f-cda4-41b3-db80-32a826554459"
      },
      "source": [
        "!unzip social_honeypot_icwsm_2011.zip"
      ],
      "execution_count": null,
      "outputs": [
        {
          "output_type": "stream",
          "name": "stdout",
          "text": [
            "Archive:  social_honeypot_icwsm_2011.zip\n",
            "replace social_honeypot_icwsm_2011/content_polluters.txt? [y]es, [n]o, [A]ll, [N]one, [r]ename: y\n",
            "  inflating: social_honeypot_icwsm_2011/content_polluters.txt  \n",
            "replace __MACOSX/social_honeypot_icwsm_2011/._content_polluters.txt? [y]es, [n]o, [A]ll, [N]one, [r]ename: a\n",
            "error:  invalid response [a]\n",
            "replace __MACOSX/social_honeypot_icwsm_2011/._content_polluters.txt? [y]es, [n]o, [A]ll, [N]one, [r]ename: y\n",
            "  inflating: __MACOSX/social_honeypot_icwsm_2011/._content_polluters.txt  \n",
            "replace social_honeypot_icwsm_2011/content_polluters_followings.txt? [y]es, [n]o, [A]ll, [N]one, [r]ename: y\n",
            "  inflating: social_honeypot_icwsm_2011/content_polluters_followings.txt  \n",
            "replace __MACOSX/social_honeypot_icwsm_2011/._content_polluters_followings.txt? [y]es, [n]o, [A]ll, [N]one, [r]ename: y\n",
            "  inflating: __MACOSX/social_honeypot_icwsm_2011/._content_polluters_followings.txt  \n",
            "replace social_honeypot_icwsm_2011/content_polluters_tweets.txt? [y]es, [n]o, [A]ll, [N]one, [r]ename: y\n",
            "  inflating: social_honeypot_icwsm_2011/content_polluters_tweets.txt  \n",
            "replace __MACOSX/social_honeypot_icwsm_2011/._content_polluters_tweets.txt? [y]es, [n]o, [A]ll, [N]one, [r]ename: y\n",
            "  inflating: __MACOSX/social_honeypot_icwsm_2011/._content_polluters_tweets.txt  \n",
            "replace social_honeypot_icwsm_2011/legitimate_users.txt? [y]es, [n]o, [A]ll, [N]one, [r]ename: y\n",
            "  inflating: social_honeypot_icwsm_2011/legitimate_users.txt  \n",
            "replace __MACOSX/social_honeypot_icwsm_2011/._legitimate_users.txt? [y]es, [n]o, [A]ll, [N]one, [r]ename: y\n",
            "  inflating: __MACOSX/social_honeypot_icwsm_2011/._legitimate_users.txt  \n",
            "replace social_honeypot_icwsm_2011/legitimate_users_followings.txt? [y]es, [n]o, [A]ll, [N]one, [r]ename: A\n",
            "  inflating: social_honeypot_icwsm_2011/legitimate_users_followings.txt  \n",
            "  inflating: __MACOSX/social_honeypot_icwsm_2011/._legitimate_users_followings.txt  \n",
            "  inflating: social_honeypot_icwsm_2011/legitimate_users_tweets.txt  \n",
            "  inflating: __MACOSX/social_honeypot_icwsm_2011/._legitimate_users_tweets.txt  \n",
            "  inflating: social_honeypot_icwsm_2011/social_honeypot_icwsm_2011.pdf  \n",
            "  inflating: __MACOSX/social_honeypot_icwsm_2011/._social_honeypot_icwsm_2011.pdf  \n",
            "  inflating: __MACOSX/._social_honeypot_icwsm_2011  \n"
          ]
        }
      ]
    },
    {
      "cell_type": "code",
      "metadata": {
        "id": "UBn-0oIjo-w8"
      },
      "source": [
        "polluters = pd.read_csv('social_honeypot_icwsm_2011/content_polluters.txt',sep='\\t', names=\n",
        "                 [\"UserID\",\"CreatedAt\",\"CollectedAt\",\"NumberOfFollowings\",\"NumberOfFollowers\",\n",
        "                  \"NumberOfTweets\",\"LengthOfScreenName\",\"LengthOfDescriptionInUserProfile\"],\n",
        "                parse_dates=[\"CreatedAt\",\"CollectedAt\"],index_col=0)\n",
        "\n",
        "legitimate_users = pd.read_csv('social_honeypot_icwsm_2011/legitimate_users.txt',sep='\\t', names=\n",
        "                 [\"UserID\",\"CreatedAt\",\"CollectedAt\",\"NumberOfFollowings\",\"NumberOfFollowers\",\n",
        "                  \"NumberOfTweets\",\"LengthOfScreenName\",\"LengthOfDescriptionInUserProfile\"],\n",
        "                parse_dates=[\"CreatedAt\",\"CollectedAt\"],index_col=0)\n",
        "\n",
        "polluters_tweets = pd.read_csv('social_honeypot_icwsm_2011/content_polluters_tweets.txt',sep='\\t', names=\n",
        "                 [\"UserID\",\"TweetID\",\"Tweet\",\"CreatedAt\"], parse_dates=[\"CreatedAt\"],index_col=0)\n",
        "\n",
        "legitimate_users_tweets = pd.read_csv('social_honeypot_icwsm_2011/legitimate_users_tweets.txt',sep='\\t', names=\n",
        "                 [\"UserID\",\"TweetID\",\"Tweet\",\"CreatedAt\"], parse_dates=[\"CreatedAt\"],index_col=0)\n"
      ],
      "execution_count": null,
      "outputs": []
    },
    {
      "cell_type": "markdown",
      "source": [
        "Extract Features"
      ],
      "metadata": {
        "id": "aH-EyUlr7M18"
      }
    },
    {
      "cell_type": "markdown",
      "source": [
        "Basic Features\n",
        "\n",
        "---\n",
        "\n"
      ],
      "metadata": {
        "id": "luNtfh5Lu9mm"
      }
    },
    {
      "cell_type": "markdown",
      "source": [
        "Number of Followings"
      ],
      "metadata": {
        "id": "8y89hX3avVPu"
      }
    },
    {
      "cell_type": "code",
      "source": [
        "def noFollowings(data_frame) :\n",
        "  df = pd.DataFrame({\"NumberOfFollowings\":data_frame[\"NumberOfFollowings\"]})\n",
        "  return df"
      ],
      "metadata": {
        "id": "K30oPy_UrhaW"
      },
      "execution_count": null,
      "outputs": []
    },
    {
      "cell_type": "markdown",
      "source": [
        "Number of Followers"
      ],
      "metadata": {
        "id": "D_BYfMIRuznM"
      }
    },
    {
      "cell_type": "code",
      "source": [
        "def noFollowers(data_frame) :\n",
        "  df = pd.DataFrame({\"NumberOfFollowers\":data_frame[\"NumberOfFollowers\"]})\n",
        "  return df"
      ],
      "metadata": {
        "id": "LPe2ny0FrkwI"
      },
      "execution_count": null,
      "outputs": []
    },
    {
      "cell_type": "markdown",
      "source": [
        "Number of Tweets"
      ],
      "metadata": {
        "id": "RUi3nuIKuo4G"
      }
    },
    {
      "cell_type": "code",
      "source": [
        "def noTweets(data_frame) :\n",
        "  df = pd.DataFrame({\"NumberOfTweets\": data_frame[\"NumberOfTweets\"] })\n",
        "  return df"
      ],
      "metadata": {
        "id": "o8STax4_rpto"
      },
      "execution_count": null,
      "outputs": []
    },
    {
      "cell_type": "markdown",
      "source": [
        "Length of Name"
      ],
      "metadata": {
        "id": "61JD1mvSvALt"
      }
    },
    {
      "cell_type": "code",
      "source": [
        "def nameLength(data_frame) :\n",
        "  df = pd.DataFrame({\"LengthOfScreenName\":data_frame[\"LengthOfScreenName\"]})\n",
        "  return df"
      ],
      "metadata": {
        "id": "D8iVJ4GErUX_"
      },
      "execution_count": null,
      "outputs": []
    },
    {
      "cell_type": "markdown",
      "source": [
        "Length of Description (Bio)"
      ],
      "metadata": {
        "id": "v1j6Y6UMvRYu"
      }
    },
    {
      "cell_type": "code",
      "source": [
        "def bioLength(data_frame) :\n",
        "  df = pd.DataFrame({\"LengthOfDescription\":data_frame[\"LengthOfDescriptionInUserProfile\"]})\n",
        "  return df"
      ],
      "metadata": {
        "id": "geSDan_xrWyV"
      },
      "execution_count": null,
      "outputs": []
    },
    {
      "cell_type": "markdown",
      "source": [
        "Derived Features\n",
        "\n",
        "---\n",
        "\n"
      ],
      "metadata": {
        "id": "uQnnx7BWvoh3"
      }
    },
    {
      "cell_type": "markdown",
      "metadata": {
        "id": "gF76X4KO3-h7"
      },
      "source": [
        "Tweets with URL"
      ]
    },
    {
      "cell_type": "code",
      "metadata": {
        "id": "FxLzAKw54Ebf"
      },
      "source": [
        "def existURL(tweet) :\n",
        "  if(len(re.findall('https?://(?:[-\\w.]|(?:%[\\da-fA-F]{2}))+', str(tweet)))==0):\n",
        "    return 0;\n",
        "  else:\n",
        "    return 1;\n",
        "  \n",
        "def urlFilter(data_frame) :\n",
        "  dftemp=pd.DataFrame({\"AvgTweetsWithURL\": data_frame[\"Tweet\"].apply(existURL)})\n",
        "  df = dftemp.groupby([\"UserID\"]).mean()\n",
        "  return df\n"
      ],
      "execution_count": null,
      "outputs": []
    },
    {
      "cell_type": "markdown",
      "metadata": {
        "id": "r9wRArWC6jM9"
      },
      "source": [
        "Tweets Frequency"
      ]
    },
    {
      "cell_type": "code",
      "metadata": {
        "id": "Y5YIuzKO6iFV"
      },
      "source": [
        "def URLcount(tweet):\n",
        "  return len(re.findall('https?://(?:[-\\w.]|(?:%[\\da-fA-F]{2}))+', str(tweet)))\n",
        "\n",
        "def frequency(data_frame) :\n",
        "  dftemp=pd.DataFrame({\"TweetFrequency\": data_frame[\"Tweet\"].apply(URLcount)})\n",
        "  df = dftemp.groupby([\"UserID\"]).mean()\n",
        "  return df"
      ],
      "execution_count": null,
      "outputs": []
    },
    {
      "cell_type": "markdown",
      "metadata": {
        "id": "b5f-FJpe38sL"
      },
      "source": [
        "Average Mention Times"
      ]
    },
    {
      "cell_type": "code",
      "metadata": {
        "id": "OR9sWj6Q4ADJ"
      },
      "source": [
        "def Atcount(tweet):\n",
        "  return len(re.findall('\\s([@#][\\w_-]+)', str(tweet)))\n",
        "\n",
        "def mentions(data_frame):\n",
        "  dftemp=pd.DataFrame({\"AvgMentionsPerTweet\": data_frame[\"Tweet\"].apply(Atcount)})\n",
        "  df = dftemp.groupby([\"UserID\"]).mean()\n",
        "  return df"
      ],
      "execution_count": null,
      "outputs": []
    },
    {
      "cell_type": "markdown",
      "metadata": {
        "id": "KQ8OT2dKBEBM"
      },
      "source": [
        "Average Duration"
      ]
    },
    {
      "cell_type": "code",
      "metadata": {
        "id": "wphcuK8nBRqy"
      },
      "source": [
        "def avgDuration(data_frame):\n",
        "  filter=pd.DataFrame({\"CreatedAt\":data_frame[\"CreatedAt\"]}).sort_values(by=['UserID','CreatedAt'])\n",
        "  df_t=pd.DataFrame({\"PreviousTweet\":filter.groupby(['UserID']).apply(lambda x:x)['CreatedAt'],\n",
        "                       \"NextTweet\":filter.groupby(['UserID']).shift(-1)['CreatedAt']})\n",
        "  df=pd.DataFrame({\"avgDuration\": (df_t[\"NextTweet\"]-df_t[\"PreviousTweet\"]) / np.timedelta64(1, 'm')})\n",
        "  df=df.groupby([\"UserID\"]).mean()\n",
        "  return df"
      ],
      "execution_count": null,
      "outputs": []
    },
    {
      "cell_type": "markdown",
      "metadata": {
        "id": "KqqLLHyOacgK"
      },
      "source": [
        "Max Duration\n"
      ]
    },
    {
      "cell_type": "code",
      "metadata": {
        "id": "Ej3k_e_QajGo"
      },
      "source": [
        "def maxDuration(data_frame):\n",
        "  filter=pd.DataFrame({\"CreatedAt\":data_frame[\"CreatedAt\"]}).sort_values(by=['UserID','CreatedAt'])\n",
        "  df_t=pd.DataFrame({\"PreviousTweet\":filter.groupby(['UserID']).apply(lambda x:x)['CreatedAt'],\n",
        "                       \"NextTweet\":filter.groupby(['UserID']).shift(-1)['CreatedAt']})\n",
        "  df=pd.DataFrame({\"maxDuration\": (df_t[\"NextTweet\"]-df_t[\"PreviousTweet\"]) / np.timedelta64(1, 'm')})\n",
        "  df=df.groupby([\"UserID\"]).max()\n",
        "  return df"
      ],
      "execution_count": null,
      "outputs": []
    },
    {
      "cell_type": "markdown",
      "source": [
        "Generate Dataset"
      ],
      "metadata": {
        "id": "UuY3AIbwvjVX"
      }
    },
    {
      "cell_type": "code",
      "metadata": {
        "id": "IWfUI1FzwmMK"
      },
      "source": [
        "data_set_polluters=pd.concat([urlFilter(polluters_tweets),frequency(polluters_tweets),nameLength(polluters),bioLength(polluters),noFollowings(polluters),\n",
        "                              mentions(polluters_tweets),noFollowers(polluters),noTweets(polluters),avgDuration(polluters_tweets),maxDuration(polluters_tweets)],axis=1)\n",
        "\n",
        "data_set_legitimate=pd.concat([urlFilter(legitimate_users_tweets),frequency(legitimate_users_tweets),nameLength(legitimate_users),bioLength(legitimate_users),\n",
        "                              mentions(legitimate_users_tweets),noFollowings(legitimate_users),noFollowers(legitimate_users),noTweets(legitimate_users),\n",
        "                              avgDuration(legitimate_users_tweets),maxDuration(legitimate_users_tweets)],axis=1)"
      ],
      "execution_count": null,
      "outputs": []
    },
    {
      "cell_type": "code",
      "metadata": {
        "id": "TD0i41Jt1kfj"
      },
      "source": [
        "data_set_polluters.insert(0,\"Label\",1)\n",
        "data_set_legitimate.insert(0,\"Label\",0)"
      ],
      "execution_count": null,
      "outputs": []
    },
    {
      "cell_type": "code",
      "metadata": {
        "id": "BP_YIDvr1tig"
      },
      "source": [
        "data_set=pd.concat([data_set_polluters,data_set_legitimate])"
      ],
      "execution_count": null,
      "outputs": []
    },
    {
      "cell_type": "markdown",
      "source": [
        "Prepocessing"
      ],
      "metadata": {
        "id": "aUEyJaDQ8GnF"
      }
    },
    {
      "cell_type": "markdown",
      "metadata": {
        "id": "V7UaB7gN3x_j"
      },
      "source": [
        "Replace Missiing Values (as 0)"
      ]
    },
    {
      "cell_type": "code",
      "metadata": {
        "id": "Exn1g8Hf3yN7"
      },
      "source": [
        "def missing(dataset):\n",
        "  Replaced = dataset.replace([np.inf,-np.inf],np.nan)\n",
        "  Replaced.fillna(0,inplace=True)\n",
        "  return Replaced"
      ],
      "execution_count": null,
      "outputs": []
    },
    {
      "cell_type": "markdown",
      "metadata": {
        "id": "weoTqBRg3212"
      },
      "source": [
        "Z-Score Standardizing"
      ]
    },
    {
      "cell_type": "code",
      "metadata": {
        "id": "xnl51CtgjOgR"
      },
      "source": [
        "def standardizing(dataset):\n",
        "  df=data_set.drop([\"Label\"],axis=1)\n",
        "  df=df.apply(zscore)\n",
        "  df[\"Label\"]=dataset[\"Label\"]\n",
        "  return df"
      ],
      "execution_count": null,
      "outputs": []
    },
    {
      "cell_type": "code",
      "metadata": {
        "id": "2gBiYBS2qYR-"
      },
      "source": [
        "data_set=data_set.drop_duplicates()\n",
        "data_set=missing(data_set)\n",
        "data_set=standardizing(data_set)"
      ],
      "execution_count": null,
      "outputs": []
    },
    {
      "cell_type": "code",
      "metadata": {
        "id": "vheVIbWoqjKs"
      },
      "source": [
        "export_csv = data_set.to_csv (r'dataset.csv', index = None, header=True)"
      ],
      "execution_count": null,
      "outputs": []
    },
    {
      "cell_type": "code",
      "metadata": {
        "id": "4zFcwwg1y5qu"
      },
      "source": [
        "X=data_set.drop(['Label'],axis=1)\n",
        "X=X.values\n",
        "Y=data_set[\"Label\"].values \n",
        "x_train, x_test, y_train, y_test = train_test_split(X, Y, test_size=0.3, random_state=42)"
      ],
      "execution_count": null,
      "outputs": []
    },
    {
      "cell_type": "markdown",
      "metadata": {
        "id": "J13NsU82yZv-"
      },
      "source": [
        "Random Forest"
      ]
    },
    {
      "cell_type": "code",
      "metadata": {
        "id": "XmThtrw8krNn"
      },
      "source": [
        "#Random Forest\n",
        "clf_RF = RandomForestClassifier(n_estimators=40,oob_score=True)\n",
        "clf_RF.fit(x_train, y_train)\n",
        "y_pred_RF = clf_RF.predict(x_test)"
      ],
      "execution_count": null,
      "outputs": []
    },
    {
      "cell_type": "markdown",
      "source": [
        "SVM"
      ],
      "metadata": {
        "id": "TyacLanukeav"
      }
    },
    {
      "cell_type": "code",
      "source": [
        "#SVM\n",
        "clf_SVM = svm.SVC()\n",
        "clf_SVM.fit(x_train, y_train)\n",
        "y_pred_SVM = clf_SVM.predict(x_test)"
      ],
      "metadata": {
        "id": "yxA0HRuHWOsR"
      },
      "execution_count": null,
      "outputs": []
    },
    {
      "cell_type": "markdown",
      "source": [
        "AdaBoost"
      ],
      "metadata": {
        "id": "5DhBlqvkkgtP"
      }
    },
    {
      "cell_type": "code",
      "source": [
        "#AdaBoost\n",
        "clf_ada = AdaBoostClassifier(n_estimators=40, random_state=40)\n",
        "clf_ada.fit(x_train, y_train)\n",
        "y_pred_ada = clf_ada.predict(x_test)"
      ],
      "metadata": {
        "id": "MmQqJJNDZjlv"
      },
      "execution_count": null,
      "outputs": []
    },
    {
      "cell_type": "markdown",
      "source": [
        "Evaluation"
      ],
      "metadata": {
        "id": "o0zeHGQA6hWV"
      }
    },
    {
      "cell_type": "code",
      "metadata": {
        "id": "Lx4-2jh2KmMU"
      },
      "source": [
        "def compute_precision(detection_results, labels_list):\n",
        "  precision = precision_score(detection_results, labels_list)\n",
        "  print(\"Precision: %0.4f\" % precision)\n",
        "\n",
        "def compute_recall(detection_results, labels_list):\n",
        "  recall = recall_score(detection_results, labels_list)\n",
        "  print(\"Recall: %0.4f\" % recall)\n",
        "\n",
        "def compute_f1score(detection_results, labels_list):\n",
        "  f1 = f1_score(detection_results, labels_list)\n",
        "  print(\"F1 Score: %0.4f\" % f1)"
      ],
      "execution_count": null,
      "outputs": []
    },
    {
      "cell_type": "code",
      "source": [
        "compute_precision(y_test, y_pred_RF)\n",
        "compute_recall(y_test, y_pred_RF)\n",
        "compute_f1score(y_test, y_pred_RF)"
      ],
      "metadata": {
        "id": "KKV_8XrYZVJ3",
        "outputId": "04841b6f-1a7c-41e9-96a0-fb3f6bb3a992",
        "colab": {
          "base_uri": "https://localhost:8080/"
        }
      },
      "execution_count": null,
      "outputs": [
        {
          "output_type": "stream",
          "name": "stdout",
          "text": [
            "Precision: 0.9243\n",
            "Recall: 0.9252\n",
            "F1 Score: 0.9247\n"
          ]
        }
      ]
    },
    {
      "cell_type": "code",
      "source": [
        "compute_precision(y_test, y_pred_SVM)\n",
        "compute_recall(y_test, y_pred_SVM)\n",
        "compute_f1score(y_test, y_pred_SVM)"
      ],
      "metadata": {
        "id": "rvljI6VCZXIY",
        "outputId": "9fed0585-b26e-4d4a-b9fd-3a5d384db895",
        "colab": {
          "base_uri": "https://localhost:8080/"
        }
      },
      "execution_count": null,
      "outputs": [
        {
          "output_type": "stream",
          "name": "stdout",
          "text": [
            "Precision: 0.8901\n",
            "Recall: 0.8574\n",
            "F1 Score: 0.8734\n"
          ]
        }
      ]
    },
    {
      "cell_type": "code",
      "source": [
        "compute_precision(y_test, y_pred_ada)\n",
        "compute_recall(y_test, y_pred_ada)\n",
        "compute_f1score(y_test, y_pred_ada)"
      ],
      "metadata": {
        "id": "cW00wCPxZ_pX",
        "outputId": "e418a14a-d98a-4355-dc2b-0f920133f530",
        "colab": {
          "base_uri": "https://localhost:8080/"
        }
      },
      "execution_count": null,
      "outputs": [
        {
          "output_type": "stream",
          "name": "stdout",
          "text": [
            "Precision: 0.9216\n",
            "Recall: 0.9066\n",
            "F1 Score: 0.9140\n"
          ]
        }
      ]
    }
  ]
}